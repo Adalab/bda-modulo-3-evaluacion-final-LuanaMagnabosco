{
 "cells": [
  {
   "cell_type": "markdown",
   "metadata": {},
   "source": [
    "## CSV Customer_Loyalty_History\n",
    "\n",
    "- Columnas:\n",
    "    - `Loyalty_Number`: Número de fidelidad\n",
    "    - `Country`: País\n",
    "    - `Province`: Provincia\n",
    "    - `City`: Ciudad\n",
    "    - `Postal_Code`: Código postal\n",
    "    - `Gender`: Género\n",
    "    - `Education`: Educación\n",
    "    - `Salary`: Salario\n",
    "    - `Marital_Status`: Estado civil\n",
    "    - `Loyalty_Card`: Tarjeta de fidelización\n",
    "    - `CLV`: Valor de vida del cliente (Customer Lifetime Value)\n",
    "    - `Enrollment_Type`: Tipo de inscripción\n",
    "    - `Enrollment_Year`: Año de inscripción\n",
    "    - `Enrollment_Month`: Mes de inscripción\n",
    "    - `Cancellation_Year`: Año de cancelación\n",
    "    - `Cancellation_Month`: Mes de cancelación"
   ]
  },
  {
   "cell_type": "markdown",
   "metadata": {
    "vscode": {
     "languageId": "plaintext"
    }
   },
   "source": [
    "## CSV Customer_Flight_Activity\n",
    "\n",
    "- Columnas:\n",
    "    - `Loyalty Number`: Número de Fidelidad\n",
    "    - `Year`: Año\n",
    "    - `Month`: Mes\n",
    "    - `Flights_Booked`: Vuelos Reservados\n",
    "    - `Flights_with_Companions`: Vuelos con Acompañantes\n",
    "    - `Total_Flights`: Total de Vuelos\n",
    "    - `Distance`: Distancia\n",
    "    - `Points_Accumulated`: Puntos Acumulados\n",
    "    - `Points_Redeemed`: Puntos Canjeados\n",
    "    - `Dollar_Cost_Points_Redeemed`: Costo en Dólares de Puntos Canjeados"
   ]
  },
  {
   "cell_type": "code",
   "execution_count": null,
   "metadata": {
    "vscode": {
     "languageId": "plaintext"
    }
   },
   "outputs": [],
   "source": []
  }
 ],
 "metadata": {
  "language_info": {
   "name": "python"
  }
 },
 "nbformat": 4,
 "nbformat_minor": 2
}
